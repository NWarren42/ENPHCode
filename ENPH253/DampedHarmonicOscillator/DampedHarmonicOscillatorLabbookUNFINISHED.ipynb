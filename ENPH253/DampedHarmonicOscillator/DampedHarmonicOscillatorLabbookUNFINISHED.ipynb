{
 "cells": [
  {
   "cell_type": "code",
   "execution_count": 2,
   "id": "9b712587-a1bb-47ee-abf6-ff0a733113d0",
   "metadata": {},
   "outputs": [],
   "source": [
    "import numpy as np\n",
    "import matplotlib.pyplot as plt\n",
    "\n",
    "import scipy.stats as st\n",
    "\n",
    "from IPython.display import display\n",
    "import pandas as pd"
   ]
  },
  {
   "cell_type": "markdown",
   "id": "edb989f6-6862-460e-b545-82c7924644d1",
   "metadata": {},
   "source": [
    "# Damped Harmonic Motion"
   ]
  },
  {
   "cell_type": "markdown",
   "id": "c58fd00f-7031-403e-8f02-c0f69c4a0ff6",
   "metadata": {},
   "source": [
    "## Starting on Part 2 of labbook first -- Electrical System"
   ]
  },
  {
   "cell_type": "markdown",
   "id": "141b9fb2-0c2d-4857-bab0-d4f840c2cf83",
   "metadata": {},
   "source": [
    "### Underdamped System\n",
    "Plugged in all probes to set up a series RLC circuit. Resistance is given by a variable resistance box, whereas the capacitor and inductor are set components. The capacitor's value is 1108pF, and the inductor's value is 10.0mH. The inductor's resistance and the resistance of the decade box when set to 0Ω were measured using a multimeter and found to be  24.57Ω and 0.24Ω respectively.\n",
    "\n",
    "First we set the variable resistor to its minimum value (0Ω).\n",
    "\n",
    "** Were having issues with oscilloscope when probes were reversed. Set them the correct way (red to +ve, black to gnd) and all problems were fixed.\n",
    "\n",
    "Next, measured the period of oscillations by using cursor functionality on the oscilloscope to determine time between the first observed peak and a peak near the end of the oscillations. This was done because by then dividing by the number of oscillations, we are taking an average of each period which is more accurate than a single measurement. Initial number of periods we measured over was 4 -- subject to change depending on damping.The period was determined to be 21.7us\n",
    "\n",
    "Next we measured the voltage at each peak using the cursor function. If we plot the natural log of our voltage values as a function of time elapsed, the plot should be linear. A test plot shows this is true.\n",
    "\n",
    "**DATA IS DISPLAYED IN A TABLE BELOW**\n",
    "\n",
    "Error on voltage reading is +/- 0.4V. Minimum step size on cursors is 0.2V, so we're giving ourselves two increments of wiggle room\\\n",
    "Error on time is +/- 0.4us. Step size is 0.2us and we think we have measurements within one step size on either side.\n",
    "\n",
    "The damping coefficient (gamma value) was determined by taking a linear regression of the linearized data then using the relationship m = gamma/2, we calculated gamma to be ~16100, which is within error of the expected value."
   ]
  },
  {
   "cell_type": "code",
   "execution_count": 2,
   "id": "f498231b-d6a1-4e4d-8512-aa8af8517fc3",
   "metadata": {},
   "outputs": [
    {
     "name": "stdout",
     "output_type": "stream",
     "text": [
      "Oscillation Period = 2.165e-05s\n",
      "Angular Frequency = 290216.41141707095s\n",
      "Gamma value is: 16179.64625493443\n"
     ]
    },
    {
     "data": {
      "text/html": [
       "<div>\n",
       "<style scoped>\n",
       "    .dataframe tbody tr th:only-of-type {\n",
       "        vertical-align: middle;\n",
       "    }\n",
       "\n",
       "    .dataframe tbody tr th {\n",
       "        vertical-align: top;\n",
       "    }\n",
       "\n",
       "    .dataframe thead th {\n",
       "        text-align: right;\n",
       "    }\n",
       "</style>\n",
       "<table border=\"1\" class=\"dataframe\">\n",
       "  <thead>\n",
       "    <tr style=\"text-align: right;\">\n",
       "      <th></th>\n",
       "      <th>Voltage Readings</th>\n",
       "      <th>Time (us)</th>\n",
       "    </tr>\n",
       "  </thead>\n",
       "  <tbody>\n",
       "    <tr>\n",
       "      <th>0</th>\n",
       "      <td>10.0</td>\n",
       "      <td>0.0</td>\n",
       "    </tr>\n",
       "    <tr>\n",
       "      <th>1</th>\n",
       "      <td>-7.0</td>\n",
       "      <td>43.3</td>\n",
       "    </tr>\n",
       "    <tr>\n",
       "      <th>2</th>\n",
       "      <td>5.0</td>\n",
       "      <td>86.6</td>\n",
       "    </tr>\n",
       "    <tr>\n",
       "      <th>3</th>\n",
       "      <td>-3.6</td>\n",
       "      <td>129.9</td>\n",
       "    </tr>\n",
       "    <tr>\n",
       "      <th>4</th>\n",
       "      <td>2.4</td>\n",
       "      <td>173.2</td>\n",
       "    </tr>\n",
       "    <tr>\n",
       "      <th>5</th>\n",
       "      <td>-1.8</td>\n",
       "      <td>216.5</td>\n",
       "    </tr>\n",
       "    <tr>\n",
       "      <th>6</th>\n",
       "      <td>1.2</td>\n",
       "      <td>259.8</td>\n",
       "    </tr>\n",
       "    <tr>\n",
       "      <th>7</th>\n",
       "      <td>-1.0</td>\n",
       "      <td>303.1</td>\n",
       "    </tr>\n",
       "    <tr>\n",
       "      <th>8</th>\n",
       "      <td>0.6</td>\n",
       "      <td>346.4</td>\n",
       "    </tr>\n",
       "    <tr>\n",
       "      <th>9</th>\n",
       "      <td>-0.4</td>\n",
       "      <td>389.7</td>\n",
       "    </tr>\n",
       "  </tbody>\n",
       "</table>\n",
       "</div>"
      ],
      "text/plain": [
       "   Voltage Readings  Time (us)\n",
       "0              10.0        0.0\n",
       "1              -7.0       43.3\n",
       "2               5.0       86.6\n",
       "3              -3.6      129.9\n",
       "4               2.4      173.2\n",
       "5              -1.8      216.5\n",
       "6               1.2      259.8\n",
       "7              -1.0      303.1\n",
       "8               0.6      346.4\n",
       "9              -0.4      389.7"
      ]
     },
     "metadata": {},
     "output_type": "display_data"
    },
    {
     "data": {
      "image/png": "[encoded data removed]",
      "text/plain": [
       "<Figure size 640x480 with 1 Axes>"
      ]
     },
     "metadata": {},
     "output_type": "display_data"
    }
   ],
   "source": [
    "rInductor_ohms = 24.57\n",
    "lInductor_H = 10e-3\n",
    "\n",
    "cCapacitor_farads = 1108e-12\n",
    "\n",
    "\n",
    "\n",
    "rTestValues_ohms = [0]\n",
    "\n",
    "# Underdamped Case\n",
    "measuredOscillationPeriods_s = (86.6e-6/4)\n",
    "print(f\"Oscillation Period = {measuredOscillationPeriods_s}s\")\n",
    "print(f\"Angular Frequency = {2*np.pi/measuredOscillationPeriods_s}s\")\n",
    "\n",
    "measuredDampedVoltages_V = np.array([10, -7, 5, -3.6, 2.4, \n",
    "                                     -1.8, 1.2, -1.0, 0.6, -0.4])\n",
    "\n",
    "timeVals_s = np.arange(0, 5*86.6e-6, step=86.6e-6/2)\n",
    "\n",
    "df = pd.DataFrame({\"Voltage Readings\" : measuredDampedVoltages_V, \n",
    "                   \"Time (us)\" : timeVals_s*1e6})\n",
    "\n",
    "linearVoltageVals = np.log(np.abs(measuredDampedVoltages_V))\n",
    "\n",
    "regressionAnalysis = st.linregress(timeVals_s, linearVoltageVals)\n",
    "\n",
    "gammaVal = abs(2*regressionAnalysis[0])\n",
    "print(f\"Gamma value is: {gammaVal}\")\n",
    "\n",
    "display(df)\n",
    "\n",
    "plt.plot(timeVals_s, linearVoltageVals, '.')\n",
    "plt.xlabel(\"Time (s)\")\n",
    "plt.ylabel(\"ln(|V|) (V)\")\n",
    "\n",
    "plt.show()"
   ]
  },
  {
   "cell_type": "markdown",
   "id": "d85d9df5",
   "metadata": {},
   "source": [
    "#### Determining the angular frequency of the circuit\n",
    "\n",
    "Removed the decade box from the series circuit and set the square wave reading on the oscilloscope so that it takes up 8 divisions. Plugged the decade box in parallel with the function generator, and tried resistances until the ouput of the function generator was halved. This tells us the resistance of the signal generator, which was determined to be 599.7Ω to match the resistance of the oscilloscope."
   ]
  },
  {
   "cell_type": "markdown",
   "id": "38e0ace5",
   "metadata": {},
   "source": [
    "### Critically Damped System\n",
    "\n",
    "To determine the required resistance we reconnected the series RLC circuit in the same sequence (R -> L -> C). Resistances on the decade box were then increased and the resistance required to get to no overshoot (critically damped) was found to be 4498Ω (decade box set at 4500, then measured using oscilloscope). Add this to the inductor's resistance to determine the total resistance of the circuit"
   ]
  },
  {
   "cell_type": "code",
   "execution_count": 3,
   "id": "f8cbf153",
   "metadata": {},
   "outputs": [
    {
     "name": "stdout",
     "output_type": "stream",
     "text": [
      "The system's theoretical critical damping resistance is 6008.417681261097\n"
     ]
    }
   ],
   "source": [
    "theoreticalCriticalR_ohms = (4*lInductor_H/cCapacitor_farads)**0.5\n",
    "print(f\"The system's theoretical critical damping resistance is {theoreticalCriticalR_ohms}\")"
   ]
  },
  {
   "cell_type": "markdown",
   "id": "77606810",
   "metadata": {},
   "source": [
    "Using the formula R = (4L/C)**0.5, we calculated the expected critical damping resistance. Noticeably there is a big discrepancy between what is expected and measured. Most likely systematic error/error in some component. Further analysis required."
   ]
  },
  {
   "cell_type": "markdown",
   "id": "6e7c12b9",
   "metadata": {},
   "source": [
    "## Overdamped System\n",
    "\n",
    "Not much to say here other than that the system took longer to flatten out when the resistance was set higher... as expected.\n",
    "\n",
    "**For all scenarios above, we took the csv data files of our waveforms**"
   ]
  },
  {
   "cell_type": "markdown",
   "id": "d7e4679c",
   "metadata": {},
   "source": [
    "## Now working on part 1 of labbook - Mechanical System\n",
    "\n",
    "### **IMPORTANT IMPORTANT** -- 0 POINT NOT at 0cm, 0 is at 0.025cm"
   ]
  },
  {
   "cell_type": "markdown",
   "id": "2765db43",
   "metadata": {},
   "source": [
    "### Underdamped Situation\n",
    "\n",
    "Using a galvanometer, we are going to determine the period of the mechanisms oscillations. Originally the decade resistor is set to 10 000Ω, and the potentiometer which controls charging is set to 30% of the maximum 500Ω.\n",
    "\n",
    "Like with the electrical oscillator, we measured multiple oscillatory periods then divided by the number of periods we measured across. The timer button is very hard to press which makes getting accurate measurements rather hard. This makes it even more important that we take an average over multiple periods.\n",
    "\n",
    "Measured time for two period = 15.63s\\\n",
    "from this we can determine the angular frequency of the oscillator.\n",
    "\n",
    "We then recorded the peaks of each oscillation and once again plotted the relationship ln(abs(peaks)) as a function of time elapsed. The peaks are expected to decay logarithmically so by taking the natural of them, the relatioship should be linear. We found this to be true in our plot. **The data collected is shown in a table below**\n",
    "\n",
    "We also calculated the Angular frequency and the damping constant for the system, and had similar results for all our numbers to the group performing the experiment at the same time as us. Damping constant calculated using gamma/2 = slope of graph relationship, and angular frequency using omega = 2pi/T"
   ]
  },
  {
   "cell_type": "code",
   "execution_count": 4,
   "id": "35346597",
   "metadata": {},
   "outputs": [
    {
     "name": "stdout",
     "output_type": "stream",
     "text": [
      "Oscillation Period = 7.815s\n",
      "Angular Frequency = 0.8039904423774262\n"
     ]
    }
   ],
   "source": [
    "mechanicalOscillationPeriod_s = 15.63/2\n",
    "mechanicalAngularFrequency = 2*np.pi/mechanicalOscillationPeriod_s\n",
    "\n",
    "print(f\"Oscillation Period = {mechanicalOscillationPeriod_s}s\")\n",
    "print(f\"Angular Frequency = {2*np.pi/mechanicalOscillationPeriod_s}\")"
   ]
  },
  {
   "cell_type": "code",
   "execution_count": 5,
   "id": "b78c02ff",
   "metadata": {},
   "outputs": [
    {
     "name": "stdout",
     "output_type": "stream",
     "text": [
      "Gamma value = 0.3891166756117924\n"
     ]
    },
    {
     "data": {
      "text/html": [
       "<div>\n",
       "<style scoped>\n",
       "    .dataframe tbody tr th:only-of-type {\n",
       "        vertical-align: middle;\n",
       "    }\n",
       "\n",
       "    .dataframe tbody tr th {\n",
       "        vertical-align: top;\n",
       "    }\n",
       "\n",
       "    .dataframe thead th {\n",
       "        text-align: right;\n",
       "    }\n",
       "</style>\n",
       "<table border=\"1\" class=\"dataframe\">\n",
       "  <thead>\n",
       "    <tr style=\"text-align: right;\">\n",
       "      <th></th>\n",
       "      <th>Displacement Peaks (cm)</th>\n",
       "      <th>Time Values (s)</th>\n",
       "    </tr>\n",
       "  </thead>\n",
       "  <tbody>\n",
       "    <tr>\n",
       "      <th>0</th>\n",
       "      <td>18.50</td>\n",
       "      <td>0.0000</td>\n",
       "    </tr>\n",
       "    <tr>\n",
       "      <th>1</th>\n",
       "      <td>7.80</td>\n",
       "      <td>3.9075</td>\n",
       "    </tr>\n",
       "    <tr>\n",
       "      <th>2</th>\n",
       "      <td>3.70</td>\n",
       "      <td>7.8150</td>\n",
       "    </tr>\n",
       "    <tr>\n",
       "      <th>3</th>\n",
       "      <td>1.70</td>\n",
       "      <td>11.7225</td>\n",
       "    </tr>\n",
       "    <tr>\n",
       "      <th>4</th>\n",
       "      <td>0.70</td>\n",
       "      <td>15.6300</td>\n",
       "    </tr>\n",
       "    <tr>\n",
       "      <th>5</th>\n",
       "      <td>0.40</td>\n",
       "      <td>19.5375</td>\n",
       "    </tr>\n",
       "    <tr>\n",
       "      <th>6</th>\n",
       "      <td>0.15</td>\n",
       "      <td>23.4450</td>\n",
       "    </tr>\n",
       "    <tr>\n",
       "      <th>7</th>\n",
       "      <td>0.10</td>\n",
       "      <td>27.3525</td>\n",
       "    </tr>\n",
       "  </tbody>\n",
       "</table>\n",
       "</div>"
      ],
      "text/plain": [
       "   Displacement Peaks (cm)  Time Values (s)\n",
       "0                    18.50           0.0000\n",
       "1                     7.80           3.9075\n",
       "2                     3.70           7.8150\n",
       "3                     1.70          11.7225\n",
       "4                     0.70          15.6300\n",
       "5                     0.40          19.5375\n",
       "6                     0.15          23.4450\n",
       "7                     0.10          27.3525"
      ]
     },
     "metadata": {},
     "output_type": "display_data"
    },
    {
     "data": {
      "image/png": "[encoded data removed]",
      "text/plain": [
       "<Figure size 640x480 with 1 Axes>"
      ]
     },
     "metadata": {},
     "output_type": "display_data"
    }
   ],
   "source": [
    "mechanicalOscillationPeaks_m = np.array([18.5, 7.8, 3.7, 1.7, \n",
    "                                         0.7, 0.4, 0.15, 0.1])/100\n",
    "\n",
    "mechanicalTimeValues_s = np.arange(0, mechanicalOscillationPeriod_s*4, \n",
    "                                   mechanicalOscillationPeriod_s/2)\n",
    "\n",
    "df = pd.DataFrame({\"Displacement Peaks (cm)\":mechanicalOscillationPeaks_m*100, \n",
    "                   \"Time Values (s)\":mechanicalTimeValues_s})\n",
    "\n",
    "linearMechanicalOscillations = np.log(mechanicalOscillationPeaks_m)\n",
    "\n",
    "mechLinearRegression = st.linregress(mechanicalTimeValues_s, \n",
    "                                     linearMechanicalOscillations)\n",
    "mechGammaVal = abs(mechLinearRegression[0]*2)\n",
    "print(f\"Gamma value = {mechGammaVal}\")\n",
    "\n",
    "display(df)\n",
    "\n",
    "plt.plot(mechanicalTimeValues_s, linearMechanicalOscillations, '.')\n",
    "plt.xlabel(\"Time elapsed (s)\")\n",
    "plt.ylabel(\"ln(Displacement) (m)\")\n",
    "\n",
    "plt.show()\n"
   ]
  },
  {
   "attachments": {
    "image_from_ios_720.jpg": {
     "image/jpeg": "[encoded data removed]"
    }
   },
   "cell_type": "markdown",
   "id": "9e17d01a",
   "metadata": {},
   "source": [
    "### Critically damped situation\n",
    "Now we want to critically damp the system. To do this we incrementally increased the resistance of the decade box until the galvanometer appeared to never overshoot the 0 point. Resistance of the decade box was set to 31Ω when we observed critical damping.\n",
    "\n",
    "Next step was to make multiple measurements for the time that it takes the system to go from 0 to a maximum. This maximum was around 3.65cm. We then averaged all the periods to get a better idea of the actual time. We took 5 measurements of the time and averages them to determine the final period in seconds.\n",
    "\n",
    "t1 = 1.63\\\n",
    "t2 = 1.5\\\n",
    "t3 = 1.69\\\n",
    "t4 = 1.53\\\n",
    "t5 = 1.66\n",
    "\n",
    "Note that as the galvanometer originally rotates up to a maximum when released, it reaches 3.65cm deviation.\n",
    "\n",
    "Using the equation x = V*t*exp(-(gamma/2)*t), where t is the ramp time. We can rearrange to find gamma:\n",
    "\n",
    "![image_from_ios_720.jpg](attachment:image_from_ios_720.jpg)\n",
    "\n",
    "Once we've rearranged for gamma we can compare it to the predicted value which is calculated using the formula gamma = 2*angularFrequency. We see that they are pretty close together so I think we're fine."
   ]
  },
  {
   "cell_type": "code",
   "execution_count": 6,
   "id": "87bd46cd",
   "metadata": {},
   "outputs": [
    {
     "name": "stdout",
     "output_type": "stream",
     "text": [
      "Critically Damped Decay time = 1.6019999999999999\n",
      "Value from prediction formula for gamma = 1.6079808847548525\n"
     ]
    }
   ],
   "source": [
    "avgRampTime = np.average(np.array([1.63, 1.5, 1.69, 1.53, 1.66]))\n",
    "\n",
    "print(f\"Critically Damped Decay time = {avgRampTime}\")\n",
    "\n",
    "predictionGamma = 2*mechanicalAngularFrequency\n",
    "print(f\"Value from prediction formula for gamma = {predictionGamma}\")"
   ]
  },
  {
   "cell_type": "markdown",
   "id": "764f1017",
   "metadata": {},
   "source": [
    "### Overdamped situation\n",
    "\n",
    "Now we have the decade box set to 10Ω. Completing the same measurements as for the critically damped situation, we got the following values in seconds.\n",
    "\n",
    "t1 = 1.35\n",
    "t2 = 1.31\n",
    "t3 = 1.37\n",
    "t4 = 1.44\n",
    "t5 = 1.43\n",
    "\n",
    "Note that as the galvanometer originally rotates up to a maximum when released, it reaches 1.4cm deviation.\n",
    "\n",
    "Qualitative observations:\n",
    "- Initial speed is same for critical and overdamped systems\n",
    "- Oscillator slows down much faster in overdamped system"
   ]
  },
  {
   "cell_type": "code",
   "execution_count": 7,
   "id": "d35ef9c9",
   "metadata": {},
   "outputs": [
    {
     "name": "stdout",
     "output_type": "stream",
     "text": [
      "Critically Damped Decay time = 1.3800000000000001\n"
     ]
    }
   ],
   "source": [
    "avgRampTime = np.average(np.array([1.35, 1.31, 1.37, 1.44, 1.43]))\n",
    "\n",
    "print(f\"Critically Damped Decay time = {avgRampTime}\")"
   ]
  },
  {
   "cell_type": "code",
   "execution_count": null,
   "id": "60897a40",
   "metadata": {},
   "outputs": [],
   "source": []
  }
 ],
 "metadata": {
  "kernelspec": {
   "display_name": "Python 3 (ipykernel)",
   "language": "python",
   "name": "python3"
  },
  "language_info": {
   "codemirror_mode": {
    "name": "ipython",
    "version": 3
   },
   "file_extension": ".py",
   "mimetype": "text/x-python",
   "name": "python",
   "nbconvert_exporter": "python",
   "pygments_lexer": "ipython3",
   "version": "3.9.13"
  }
 },
 "nbformat": 4,
 "nbformat_minor": 5
}
