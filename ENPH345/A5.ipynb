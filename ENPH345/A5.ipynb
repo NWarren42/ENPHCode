{
 "cells": [
  {
   "cell_type": "code",
   "execution_count": 14,
   "metadata": {},
   "outputs": [
    {
     "name": "stdout",
     "output_type": "stream",
     "text": [
      "Optimal a: 1.0\n",
      "Optimal nu: 1.0\n",
      "Optimal energy: -0.8333333333333333\n"
     ]
    },
    {
     "name": "stderr",
     "output_type": "stream",
     "text": [
      "c:\\venvs\\ENPH213\\lib\\site-packages\\scipy\\optimize\\_numdiff.py:576: RuntimeWarning: invalid value encountered in subtract\n",
      "  df = fun(x) - f0\n"
     ]
    }
   ],
   "source": [
    "import numpy as np\n",
    "import scipy.optimize as opt\n",
    "\n",
    "# Define physical constants (arbitrary units for now)\n",
    "hbar = 1.0  # Reduced Planck's constant\n",
    "m = 1.0     # Particle mass\n",
    "alpha = 1.0 # Delta potential strength\n",
    "\n",
    "# Define the variational energy function\n",
    "def E_trial(vars):\n",
    "    a, nu = vars\n",
    "    if a <= 0 or nu <= 0.5:  # Ensuring physically meaningful values\n",
    "        return np.inf\n",
    "    term1 = - (hbar**2 / m) * ((2*nu - 1) * nu * (nu + 1)) / (2 * (2*nu + 1) * a**2)\n",
    "    term2 = - (alpha * (2*nu - 1)) / (2 * a)\n",
    "    return term1 + term2\n",
    "\n",
    "# Initial guess for (a, nu)\n",
    "initial_guess = [1.0, 1.0]\n",
    "\n",
    "# Bounds: a > 0, nu > 0.5\n",
    "bounds = [(1e-5, None), (1e-5, None)]\n",
    "\n",
    "# Perform the minimization\n",
    "result = opt.minimize(E_trial, initial_guess, method='L-BFGS-B')\n",
    "\n",
    "# Extract optimized values\n",
    "optimal_a, optimal_nu = result.x\n",
    "optimal_energy = result.fun\n",
    "\n",
    "print(f\"Optimal a: {optimal_a}\")\n",
    "print(f\"Optimal nu: {optimal_nu}\")\n",
    "print(f\"Optimal energy: {optimal_energy}\")"
   ]
  },
  {
   "cell_type": "code",
   "execution_count": 17,
   "metadata": {},
   "outputs": [
    {
     "name": "stdout",
     "output_type": "stream",
     "text": [
      "0.32413043478260867\n"
     ]
    }
   ],
   "source": [
    "v = 0.42\n",
    "\n",
    "c_a = v*(v+1)/(2*v + 1)\n",
    "print(c_a)"
   ]
  }
 ],
 "metadata": {
  "kernelspec": {
   "display_name": "ENPH213",
   "language": "python",
   "name": "python3"
  },
  "language_info": {
   "codemirror_mode": {
    "name": "ipython",
    "version": 3
   },
   "file_extension": ".py",
   "mimetype": "text/x-python",
   "name": "python",
   "nbconvert_exporter": "python",
   "pygments_lexer": "ipython3",
   "version": "3.9.13"
  }
 },
 "nbformat": 4,
 "nbformat_minor": 2
}
